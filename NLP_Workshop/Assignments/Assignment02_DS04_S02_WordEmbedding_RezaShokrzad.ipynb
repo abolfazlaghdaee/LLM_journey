{
  "cells": [
    {
      "cell_type": "markdown",
      "source": [
        "# 📌 NLP Assignment: Word Embeddings & Vectorization\n"
      ],
      "metadata": {
        "id": "9Ofwn8ltLtg6"
      }
    },
    {
      "cell_type": "markdown",
      "source": [
        "## 🎯 Objective:\n",
        "This assignment will deepen your understanding of word vectorization techniques: TF-IDF, Word2Vec, FastText, and GloVe.\n",
        "Your goal is to fill in the blanks and complete the implementation.\n",
        "\n"
      ],
      "metadata": {
        "id": "H1n9RW0xLvBJ"
      }
    },
    {
      "cell_type": "markdown",
      "source": [
        "## 1️⃣ TF-IDF: Identifying Fake vs. Real News Based on Keyword\n",
        "**Task:**\n",
        "* Use TfidfVectorizer from scikit-learn to extract important words from a given document.\n",
        "* Identify the top 5 most Top Keywords in fake and real news.\n"
      ],
      "metadata": {
        "id": "EwWVBWDTLz2p"
      }
    },
    {
      "cell_type": "code",
      "source": [
        "import pandas as pd\n",
        "from sklearn.feature_extraction.text import TfidfVectorizer\n",
        "\n",
        "# Sample dataset (Fake & Real News Headlines)\n",
        "data = {\n",
        "    \"headline\": [\n",
        "        \"Breaking: Celebrity Caught in Secret Scandal! Fans are shocked as leaked footage surfaces online.\",\n",
        "        \"Scientists Discover New Planet With Signs of Life! Astronomers say it could have a habitable atmosphere.\",\n",
        "        \"Government Hiding Truth About UFOs, Says Insider! Documents reveal classified reports on alien encounters.\",\n",
        "        \"New Study Shows Coffee Can Extend Your Lifespan. Researchers find evidence linking caffeine to longevity.\",\n",
        "        \"Shocking: Politician Involved in Money Laundering Scheme! Investigation uncovers offshore bank accounts.\",\n",
        "        \"NASA Confirms Water on Mars, A Big Step for Space Exploration. Experts believe this could lead to human settlement.\"\n",
        "    ],\n",
        "    \"label\": [\"fake\", \"real\", \"fake\", \"real\", \"fake\", \"real\"]  # Labels: \"fake\" or \"real\"\n",
        "}\n",
        "\n",
        "# Convert to DataFrame\n",
        "df = pd.DataFrame(data)\n",
        "\n",
        "# Initialize TF-IDF Vectorizer\n",
        "vectorizer = TfidfVectorizer(stop_words=\"english\")\n",
        "\n",
        "# Fit and transform headlines\n",
        "tfidf_matrix = vectorizer.fit_transform(df[\"headline\"])\n",
        "\n",
        "# Convert to DataFrame\n",
        "tfidf_df = pd.DataFrame(tfidf_matrix.toarray(), columns= vectorizer.get_feature_names_out())\n",
        "\n",
        "# Compute average TF-IDF score per category (fake vs. real)\n",
        "df_tfidf = pd.concat([df, tfidf_df], axis=1)\n",
        "fake_avg = df_tfidf[df_tfidf[\"label\"] == \"fake\"].iloc[:, 2:].mean().sort_values(ascending=False)\n",
        "real_avg = df_tfidf[df_tfidf[\"label\"] == \"real\"].iloc[:, 2:].mean().sort_values(ascending=False)\n",
        "\n",
        "# Display results\n",
        "print(\"\\n🔹 Top Keywords in **Fake News**:\")\n",
        "print(fake_avg.head(5))\n",
        "\n",
        "print(\"\\n🔹 Top Keywords in **Real News**:\")\n",
        "print(real_avg.head(5))\n"
      ],
      "metadata": {
        "id": "CHPRJAHOUEBK",
        "colab": {
          "base_uri": "https://localhost:8080/"
        },
        "outputId": "c569501b-59b3-4ad4-a203-cabf0529a44f"
      },
      "execution_count": 1,
      "outputs": [
        {
          "output_type": "stream",
          "name": "stdout",
          "text": [
            "\n",
            "🔹 Top Keywords in **Fake News**:\n",
            "accounts     0.100504\n",
            "celebrity    0.100504\n",
            "bank         0.100504\n",
            "scheme       0.100504\n",
            "secret       0.100504\n",
            "dtype: float64\n",
            "\n",
            "🔹 Top Keywords in **Real News**:\n",
            "new            0.171558\n",
            "atmosphere     0.107179\n",
            "astronomers    0.107179\n",
            "signs          0.107179\n",
            "say            0.107179\n",
            "dtype: float64\n"
          ]
        }
      ]
    },
    {
      "cell_type": "markdown",
      "source": [
        "## 2️⃣ Word2Vec: Training Word Embeddings from Text\n",
        "**Task:**\n",
        "* Train a Word2Vec model using the Gensim library.\n",
        "* Extract and display the 5 most similar words to \"NLP\"."
      ],
      "metadata": {
        "id": "_b4IJdZDL_JY"
      }
    },
    {
      "cell_type": "code",
      "source": [
        "!pip install scipy==1.9.3\n",
        "!pip install gensim\n",
        "\n",
        "\n",
        "\n",
        "\n"
      ],
      "metadata": {
        "colab": {
          "base_uri": "https://localhost:8080/"
        },
        "id": "_rNOxuC6Tbak",
        "outputId": "db4a4380-3e79-4e04-d05d-e7f84d93f231"
      },
      "execution_count": 2,
      "outputs": [
        {
          "output_type": "stream",
          "name": "stdout",
          "text": [
            "Requirement already satisfied: scipy==1.9.3 in /usr/local/lib/python3.11/dist-packages (1.9.3)\n",
            "Requirement already satisfied: numpy<1.26.0,>=1.18.5 in /usr/local/lib/python3.11/dist-packages (from scipy==1.9.3) (1.25.2)\n",
            "Collecting gensim\n",
            "  Downloading gensim-4.3.3-cp311-cp311-manylinux_2_17_x86_64.manylinux2014_x86_64.whl.metadata (8.1 kB)\n",
            "Requirement already satisfied: numpy<2.0,>=1.18.5 in /usr/local/lib/python3.11/dist-packages (from gensim) (1.25.2)\n",
            "Requirement already satisfied: scipy<1.14.0,>=1.7.0 in /usr/local/lib/python3.11/dist-packages (from gensim) (1.9.3)\n",
            "Requirement already satisfied: smart-open>=1.8.1 in /usr/local/lib/python3.11/dist-packages (from gensim) (7.1.0)\n",
            "Requirement already satisfied: wrapt in /usr/local/lib/python3.11/dist-packages (from smart-open>=1.8.1->gensim) (1.17.2)\n",
            "Downloading gensim-4.3.3-cp311-cp311-manylinux_2_17_x86_64.manylinux2014_x86_64.whl (26.7 MB)\n",
            "\u001b[2K   \u001b[90m━━━━━━━━━━━━━━━━━━━━━━━━━━━━━━━━━━━━━━━━\u001b[0m \u001b[32m26.7/26.7 MB\u001b[0m \u001b[31m75.1 MB/s\u001b[0m eta \u001b[36m0:00:00\u001b[0m\n",
            "\u001b[?25hInstalling collected packages: gensim\n",
            "Successfully installed gensim-4.3.3\n"
          ]
        }
      ]
    },
    {
      "cell_type": "code",
      "source": [
        "import nltk\n",
        "import gensim\n",
        "from gensim.models import Word2Vec\n",
        "from nltk.tokenize import word_tokenize\n",
        "from nltk.corpus import stopwords\n",
        "import string\n",
        "\n",
        "# Download necessary resources\n",
        "nltk.download('punkt')\n",
        "nltk.download('stopwords')\n",
        "nltk.download('punkt_tab')\n",
        "\n",
        "# Sample corpus (Multiple Sentences for Better Training)\n",
        "text_data = [\n",
        "    \"Natural Language Processing helps machines understand human language.\",\n",
        "    \"Machine learning models improve NLP tasks significantly.\",\n",
        "    \"Word embeddings like Word2Vec capture word meanings in large datasets.\",\n",
        "    \"Deep learning methods such as transformers are revolutionizing NLP.\",\n",
        "    \"TF-IDF is used for ranking important words in documents.\"\n",
        "]\n",
        "\n",
        "# Preprocessing Function (Remove Stopwords & Punctuation)\n",
        "def preprocess(text):\n",
        "    tokens = word_tokenize(text.lower())  # Tokenize & Lowercase\n",
        "    tokens = [word for word in tokens if word.isalnum() and word not in stopwords.words('english')]  # Remove stopwords & punctuation\n",
        "    return tokens\n",
        "\n",
        "# Preprocess all sentences\n",
        "tokenized_corpus = [preprocess(sentence) for sentence in text_data]\n",
        "\n",
        "# Train Word2Vec Model with a vector size of 100 and sliding window of 5 and four workers\n",
        "model = Word2Vec(sentences=tokenized_corpus, vector_size=100, window=5, min_count=1, workers=4)\n",
        "\n",
        "# Find most similar words to \"language\"\n",
        "similar_words = model.wv.most_similar(\"models\", topn=5)\n",
        "\n",
        "print(\"Top 5 words similar to 'language':\", similar_words)\n"
      ],
      "metadata": {
        "id": "jruHk2EdMkcd",
        "colab": {
          "base_uri": "https://localhost:8080/"
        },
        "outputId": "97a11810-d209-4dae-89fa-1b7ccc20567a"
      },
      "execution_count": 3,
      "outputs": [
        {
          "output_type": "stream",
          "name": "stderr",
          "text": [
            "[nltk_data] Downloading package punkt to /root/nltk_data...\n",
            "[nltk_data]   Unzipping tokenizers/punkt.zip.\n",
            "[nltk_data] Downloading package stopwords to /root/nltk_data...\n",
            "[nltk_data]   Unzipping corpora/stopwords.zip.\n",
            "[nltk_data] Downloading package punkt_tab to /root/nltk_data...\n"
          ]
        },
        {
          "output_type": "stream",
          "name": "stdout",
          "text": [
            "Top 5 words similar to 'language': [('transformers', 0.1713152378797531), ('improve', 0.15660569071769714), ('revolutionizing', 0.1471307873725891), ('processing', 0.13267460465431213), ('nlp', 0.1282457858324051)]\n"
          ]
        },
        {
          "output_type": "stream",
          "name": "stderr",
          "text": [
            "[nltk_data]   Unzipping tokenizers/punkt_tab.zip.\n"
          ]
        }
      ]
    },
    {
      "cell_type": "markdown",
      "source": [
        "## 3️⃣ FastText: Handling Rare Words in Embeddings\n",
        "**Task:**\n",
        "* Train a FastText model on a simple dataset.\n",
        "* Test it on an out-of-vocabulary (OOV) word to see how it performs compared to Word2Vec."
      ],
      "metadata": {
        "id": "8C37bBP6ME5L"
      }
    },
    {
      "cell_type": "code",
      "source": [
        "\n",
        "# FastText: Handling Rare Words in Embeddings\n",
        "from gensim.models import FastText\n",
        "\n",
        "# Sample corpus\n",
        "text_data = [\n",
        "    \"Deep learning powers NLP applications.\",\n",
        "    \"FastText can generate word vectors for unseen words.\",\n",
        "    \"Word embeddings are useful in semantic search.\",\n",
        "]\n",
        "\n",
        "# Tokenize text\n",
        "tokenized_corpus = [preprocess(sentence.lower()) for sentence in text_data]\n",
        "\n",
        "# Train FastText model\n",
        "fasttext_model = FastText(sentences=tokenized_corpus, vector_size=100, window=5, min_count=1, workers=4)\n",
        "\n",
        "# Test on an OOV word\n",
        "oov_word = \"nlptech\"\n",
        "vector_representation = fasttext_model.wv[oov_word]\n",
        "\n",
        "print(f\"Vector for '{oov_word}':\", vector_representation[:10])  # Show first 5 dimensions\n"
      ],
      "metadata": {
        "id": "I5IaxWl0M9J0",
        "colab": {
          "base_uri": "https://localhost:8080/"
        },
        "outputId": "048545db-0beb-49a8-878e-c07e8c464698"
      },
      "execution_count": 5,
      "outputs": [
        {
          "output_type": "stream",
          "name": "stdout",
          "text": [
            "Vector for 'nlptech': [-0.00060102 -0.00115305  0.00093647  0.00065878 -0.0006769  -0.00088109\n",
            " -0.00065959  0.00066173 -0.0029648   0.00103265]\n"
          ]
        }
      ]
    },
    {
      "cell_type": "markdown",
      "source": [
        "## 4️⃣ GloVe: Using Pre-Trained Embeddings\n",
        "**Task:**\n",
        "* Load pre-trained GloVe embeddings.\n",
        "* Find the cosine similarity between \"king\" and \"queen\"."
      ],
      "metadata": {
        "id": "PVHtya2UMI1K"
      }
    },
    {
      "cell_type": "code",
      "source": [
        "\n",
        "# Download glove Embedding\n",
        "import urllib.request\n",
        "import os\n",
        "import zipfile\n",
        "\n",
        "url = 'https://huggingface.co/stanfordnlp/glove/resolve/main/glove.6B.zip'\n",
        "output = os.path.join(os.getcwd(), 'glove.6B.zip')  # Save to the current working directory\n",
        "\n",
        "urllib.request.urlretrieve(url, output)\n",
        "\n",
        "# Unzip the file\n",
        "with zipfile.ZipFile('./glove.6B.zip', 'r') as zip_ref:\n",
        "    zip_ref.extractall('./glove')\n",
        "\n"
      ],
      "metadata": {
        "id": "7jaRL1moNV1j"
      },
      "execution_count": 7,
      "outputs": []
    },
    {
      "cell_type": "code",
      "source": [
        "\n",
        "# GloVe: Using Pre-Trained Embeddings\n",
        "import numpy  as np\n",
        "\n",
        "# Load GloVe embeddings\n",
        "glove_path = \"/content/glove/glove.6B.100d.txt\"  # Ensure you have this file\n",
        "\n",
        "# Read the file and store embeddings\n",
        "embeddings_dict = {}\n",
        "with open(glove_path, \"r\", encoding=\"utf-8\") as f:\n",
        "    for line in f:\n",
        "        values = line.split()\n",
        "        word = values[0]\n",
        "        vector = np.array(values[1:], dtype=\"float32\")\n",
        "        embeddings_dict[word] = vector\n",
        "\n",
        "# Compute cosine similarity\n",
        "def cosine_similarity(vec1, vec2):\n",
        "    return np.dot(vec1, vec2) / (np.linalg.norm(vec1) * np.linalg.norm(vec2))\n",
        "\n",
        "# Test similarity between \"king\" and \"queen\"\n",
        "vector_king = embeddings_dict[\"king\"]\n",
        "vector_queen = embeddings_dict[\"queen\"]\n",
        "similarity_score = cosine_similarity(vector_king, vector_queen)\n",
        "\n",
        "print(\"Cosine similarity between 'king' and 'queen':\", similarity_score)\n"
      ],
      "metadata": {
        "id": "fK79UlTDNBCX",
        "colab": {
          "base_uri": "https://localhost:8080/"
        },
        "outputId": "77cc97c6-4d57-4a38-cd81-0b30bb2e00df"
      },
      "execution_count": 8,
      "outputs": [
        {
          "output_type": "stream",
          "name": "stdout",
          "text": [
            "Cosine similarity between 'king' and 'queen': 0.7507691\n"
          ]
        }
      ]
    }
  ],
  "metadata": {
    "colab": {
      "provenance": [],
      "gpuType": "T4"
    },
    "kernelspec": {
      "display_name": "Python 3",
      "name": "python3"
    },
    "accelerator": "GPU"
  },
  "nbformat": 4,
  "nbformat_minor": 0
}